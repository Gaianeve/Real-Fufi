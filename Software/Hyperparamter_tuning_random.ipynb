{
  "nbformat": 4,
  "nbformat_minor": 0,
  "metadata": {
    "colab": {
      "provenance": []
    },
    "kernelspec": {
      "name": "python3",
      "display_name": "Python 3"
    },
    "language_info": {
      "name": "python"
    }
  },
  "cells": [
    {
      "cell_type": "markdown",
      "source": [
        "# Tuning Fufi hyperparameters with W&B Sweep 🧹 🐶\n",
        "The idea is automatically tuning hyperparameters with the sweep by the means of a `grid `search.\n",
        "In order not to spend an eternity doing this thing, we start with a` random` search, and then put a `grid `search on it."
      ],
      "metadata": {
        "id": "oPwUAOD80pAf"
      }
    },
    {
      "cell_type": "markdown",
      "source": [
        "## W&B Setup\n",
        "🪄 Install `wandb` library and login\n",
        "\n",
        "Start by installing the library and logging in to your free account."
      ],
      "metadata": {
        "id": "iIhr-60kNaKy"
      }
    },
    {
      "cell_type": "code",
      "source": [
        "!pip install wandb -qU\n",
        "# Log in to your W&B account\n",
        "import wandb\n",
        "wandb.login()"
      ],
      "metadata": {
        "colab": {
          "base_uri": "https://localhost:8080/",
          "height": 191
        },
        "id": "0klJrqifNa_R",
        "outputId": "c072727f-f9ac-4465-b234-ed34316499f1"
      },
      "execution_count": 1,
      "outputs": [
        {
          "output_type": "stream",
          "name": "stdout",
          "text": [
            "\u001b[2K     \u001b[90m━━━━━━━━━━━━━━━━━━━━━━━━━━━━━━━━━━━━━━━━\u001b[0m \u001b[32m6.9/6.9 MB\u001b[0m \u001b[31m48.4 MB/s\u001b[0m eta \u001b[36m0:00:00\u001b[0m\n",
            "\u001b[2K     \u001b[90m━━━━━━━━━━━━━━━━━━━━━━━━━━━━━━━━━━━━━━━━\u001b[0m \u001b[32m207.3/207.3 kB\u001b[0m \u001b[31m22.3 MB/s\u001b[0m eta \u001b[36m0:00:00\u001b[0m\n",
            "\u001b[2K     \u001b[90m━━━━━━━━━━━━━━━━━━━━━━━━━━━━━━━━━━━━━━━━\u001b[0m \u001b[32m300.6/300.6 kB\u001b[0m \u001b[31m30.2 MB/s\u001b[0m eta \u001b[36m0:00:00\u001b[0m\n",
            "\u001b[2K     \u001b[90m━━━━━━━━━━━━━━━━━━━━━━━━━━━━━━━━━━━━━━━━\u001b[0m \u001b[32m62.7/62.7 kB\u001b[0m \u001b[31m7.7 MB/s\u001b[0m eta \u001b[36m0:00:00\u001b[0m\n",
            "\u001b[?25h"
          ]
        },
        {
          "output_type": "display_data",
          "data": {
            "text/plain": [
              "<IPython.core.display.Javascript object>"
            ],
            "application/javascript": [
              "\n",
              "        window._wandbApiKey = new Promise((resolve, reject) => {\n",
              "            function loadScript(url) {\n",
              "            return new Promise(function(resolve, reject) {\n",
              "                let newScript = document.createElement(\"script\");\n",
              "                newScript.onerror = reject;\n",
              "                newScript.onload = resolve;\n",
              "                document.body.appendChild(newScript);\n",
              "                newScript.src = url;\n",
              "            });\n",
              "            }\n",
              "            loadScript(\"https://cdn.jsdelivr.net/npm/postmate/build/postmate.min.js\").then(() => {\n",
              "            const iframe = document.createElement('iframe')\n",
              "            iframe.style.cssText = \"width:0;height:0;border:none\"\n",
              "            document.body.appendChild(iframe)\n",
              "            const handshake = new Postmate({\n",
              "                container: iframe,\n",
              "                url: 'https://wandb.ai/authorize'\n",
              "            });\n",
              "            const timeout = setTimeout(() => reject(\"Couldn't auto authenticate\"), 5000)\n",
              "            handshake.then(function(child) {\n",
              "                child.on('authorize', data => {\n",
              "                    clearTimeout(timeout)\n",
              "                    resolve(data)\n",
              "                });\n",
              "            });\n",
              "            })\n",
              "        });\n",
              "    "
            ]
          },
          "metadata": {}
        },
        {
          "output_type": "stream",
          "name": "stderr",
          "text": [
            "\u001b[34m\u001b[1mwandb\u001b[0m: Logging into wandb.ai. (Learn how to deploy a W&B server locally: https://wandb.me/wandb-server)\n",
            "\u001b[34m\u001b[1mwandb\u001b[0m: You can find your API key in your browser here: https://wandb.ai/authorize\n",
            "wandb: Paste an API key from your profile and hit enter, or press ctrl+c to quit:"
          ]
        },
        {
          "name": "stdout",
          "output_type": "stream",
          "text": [
            " ··········\n"
          ]
        },
        {
          "output_type": "stream",
          "name": "stderr",
          "text": [
            "\u001b[34m\u001b[1mwandb\u001b[0m: Appending key for api.wandb.ai to your netrc file: /root/.netrc\n"
          ]
        },
        {
          "output_type": "execute_result",
          "data": {
            "text/plain": [
              "True"
            ]
          },
          "metadata": {},
          "execution_count": 1
        }
      ]
    },
    {
      "cell_type": "markdown",
      "source": [
        "## Installing libraries 📚"
      ],
      "metadata": {
        "id": "F5JDlRY-Nhh_"
      }
    },
    {
      "cell_type": "code",
      "source": [
        "!pip install gym==0.25.2\n",
        "#needed from March\n",
        "!pip install numpy==1.23.5"
      ],
      "metadata": {
        "colab": {
          "base_uri": "https://localhost:8080/"
        },
        "id": "NfXquseoNiSm",
        "outputId": "0b1ec81d-7904-4c13-feb7-1bc88cea9ac5"
      },
      "execution_count": 2,
      "outputs": [
        {
          "output_type": "stream",
          "name": "stdout",
          "text": [
            "Requirement already satisfied: gym==0.25.2 in /usr/local/lib/python3.10/dist-packages (0.25.2)\n",
            "Requirement already satisfied: numpy>=1.18.0 in /usr/local/lib/python3.10/dist-packages (from gym==0.25.2) (1.23.5)\n",
            "Requirement already satisfied: cloudpickle>=1.2.0 in /usr/local/lib/python3.10/dist-packages (from gym==0.25.2) (2.2.1)\n",
            "Requirement already satisfied: gym-notices>=0.0.4 in /usr/local/lib/python3.10/dist-packages (from gym==0.25.2) (0.0.8)\n",
            "Requirement already satisfied: numpy==1.23.5 in /usr/local/lib/python3.10/dist-packages (1.23.5)\n"
          ]
        }
      ]
    },
    {
      "cell_type": "markdown",
      "source": [
        "## Setting things up for the environment 🌍 🪖"
      ],
      "metadata": {
        "id": "VKJiyItvPINy"
      }
    },
    {
      "cell_type": "code",
      "source": [
        "import os\n",
        "#cloning Fufi repo from git\n",
        "!git clone https://github.com/Gaianeve/gym-Fufi.git\n",
        "#installing things\n",
        "!pip install /content/gym-Fufi"
      ],
      "metadata": {
        "id": "VsHS4kG0PIzB",
        "colab": {
          "base_uri": "https://localhost:8080/"
        },
        "outputId": "3fa71b93-7c7d-48b5-85b3-0fec1f9b6e6e"
      },
      "execution_count": 1,
      "outputs": [
        {
          "output_type": "stream",
          "name": "stdout",
          "text": [
            "fatal: destination path 'gym-Fufi' already exists and is not an empty directory.\n",
            "Processing ./gym-Fufi\n",
            "  \u001b[1;31merror\u001b[0m: \u001b[1msubprocess-exited-with-error\u001b[0m\n",
            "  \n",
            "  \u001b[31m×\u001b[0m \u001b[32mpython setup.py egg_info\u001b[0m did not run successfully.\n",
            "  \u001b[31m│\u001b[0m exit code: \u001b[1;36m1\u001b[0m\n",
            "  \u001b[31m╰─>\u001b[0m See above for output.\n",
            "  \n",
            "  \u001b[1;35mnote\u001b[0m: This error originates from a subprocess, and is likely not a problem with pip.\n",
            "  Preparing metadata (setup.py) ... \u001b[?25l\u001b[?25herror\n",
            "\u001b[1;31merror\u001b[0m: \u001b[1mmetadata-generation-failed\u001b[0m\n",
            "\n",
            "\u001b[31m×\u001b[0m Encountered error while generating package metadata.\n",
            "\u001b[31m╰─>\u001b[0m See above for output.\n",
            "\n",
            "\u001b[1;35mnote\u001b[0m: This is an issue with the package mentioned above, not pip.\n",
            "\u001b[1;36mhint\u001b[0m: See above for details.\n"
          ]
        }
      ]
    },
    {
      "cell_type": "code",
      "source": [
        "# Enter the environment directory\n",
        "%cd /content/gym-Fufi\n",
        "# Actually importing the library for our environment\n",
        "import gym_Fufi"
      ],
      "metadata": {
        "id": "br2wneHpPNeT",
        "colab": {
          "base_uri": "https://localhost:8080/"
        },
        "outputId": "aaacf6a8-3f9b-4ee7-b9ee-1ca14682cee5"
      },
      "execution_count": 3,
      "outputs": [
        {
          "output_type": "stream",
          "name": "stdout",
          "text": [
            "/content/gym-Fufi\n"
          ]
        }
      ]
    },
    {
      "cell_type": "code",
      "source": [
        "#get back to content directory so I save everything there\n",
        "%cd ..\n",
        "!pwd"
      ],
      "metadata": {
        "id": "eJF9TbTTPQHr",
        "colab": {
          "base_uri": "https://localhost:8080/"
        },
        "outputId": "171598d9-acea-4f04-b608-d1cbe9f89214"
      },
      "execution_count": 4,
      "outputs": [
        {
          "output_type": "stream",
          "name": "stdout",
          "text": [
            "/content\n",
            "/content\n"
          ]
        },
        {
          "output_type": "stream",
          "name": "stderr",
          "text": [
            "/usr/local/lib/python3.10/dist-packages/ipykernel/ipkernel.py:283: DeprecationWarning: `should_run_async` will not call `transform_cell` automatically in the future. Please pass the result to `transformed_cell` argument and any exception that happen during thetransform in `preprocessing_exc_tuple` in IPython 7.17 and above.\n",
            "  and should_run_async(code)\n"
          ]
        }
      ]
    },
    {
      "cell_type": "markdown",
      "source": [
        "## importing libraries and functions 📚\n"
      ],
      "metadata": {
        "id": "j-x6XBUbPTuH"
      }
    },
    {
      "cell_type": "code",
      "source": [
        "#libraries\n",
        "import argparse\n",
        "import random\n",
        "import time\n",
        "from distutils.util import strtobool\n",
        "import gym\n",
        "import numpy as np\n",
        "\n",
        "import torch\n",
        "import torch.nn as nn\n",
        "import torch.optim as optim\n",
        "import torch.optim.lr_scheduler as lr_scheduler\n",
        "from torch.distributions.categorical import Categorical\n",
        "from torch.utils.tensorboard import SummaryWriter\n",
        "from torchsummary import summary"
      ],
      "metadata": {
        "id": "k9cov0f4PXf-"
      },
      "execution_count": 5,
      "outputs": []
    },
    {
      "cell_type": "markdown",
      "source": [
        "## Log needed function from files 📡\n",
        "Loading files directly from git, so I don't have to upload it by hand."
      ],
      "metadata": {
        "id": "Qj7CFfgcPmoh"
      }
    },
    {
      "cell_type": "code",
      "source": [
        "#get files from git\n",
        "!git clone https://github.com/Gaianeve/FUFONE.git"
      ],
      "metadata": {
        "id": "_HEbAf60PrGS",
        "colab": {
          "base_uri": "https://localhost:8080/"
        },
        "outputId": "e322266c-7fb2-44ad-c0d9-3b75efc778ae"
      },
      "execution_count": 6,
      "outputs": [
        {
          "output_type": "stream",
          "name": "stderr",
          "text": [
            "/usr/local/lib/python3.10/dist-packages/ipykernel/ipkernel.py:283: DeprecationWarning: `should_run_async` will not call `transform_cell` automatically in the future. Please pass the result to `transformed_cell` argument and any exception that happen during thetransform in `preprocessing_exc_tuple` in IPython 7.17 and above.\n",
            "  and should_run_async(code)\n"
          ]
        },
        {
          "output_type": "stream",
          "name": "stdout",
          "text": [
            "Cloning into 'FUFONE'...\n",
            "remote: Enumerating objects: 327, done.\u001b[K\n",
            "remote: Counting objects:   0% (1/176)\u001b[K\rremote: Counting objects:   1% (2/176)\u001b[K\rremote: Counting objects:   2% (4/176)\u001b[K\rremote: Counting objects:   3% (6/176)\u001b[K\rremote: Counting objects:   4% (8/176)\u001b[K\rremote: Counting objects:   5% (9/176)\u001b[K\rremote: Counting objects:   6% (11/176)\u001b[K\rremote: Counting objects:   7% (13/176)\u001b[K\rremote: Counting objects:   8% (15/176)\u001b[K\rremote: Counting objects:   9% (16/176)\u001b[K\rremote: Counting objects:  10% (18/176)\u001b[K\rremote: Counting objects:  11% (20/176)\u001b[K\rremote: Counting objects:  12% (22/176)\u001b[K\rremote: Counting objects:  13% (23/176)\u001b[K\rremote: Counting objects:  14% (25/176)\u001b[K\rremote: Counting objects:  15% (27/176)\u001b[K\rremote: Counting objects:  16% (29/176)\u001b[K\rremote: Counting objects:  17% (30/176)\u001b[K\rremote: Counting objects:  18% (32/176)\u001b[K\rremote: Counting objects:  19% (34/176)\u001b[K\rremote: Counting objects:  20% (36/176)\u001b[K\rremote: Counting objects:  21% (37/176)\u001b[K\rremote: Counting objects:  22% (39/176)\u001b[K\rremote: Counting objects:  23% (41/176)\u001b[K\rremote: Counting objects:  24% (43/176)\u001b[K\rremote: Counting objects:  25% (44/176)\u001b[K\rremote: Counting objects:  26% (46/176)\u001b[K\rremote: Counting objects:  27% (48/176)\u001b[K\rremote: Counting objects:  28% (50/176)\u001b[K\rremote: Counting objects:  29% (52/176)\u001b[K\rremote: Counting objects:  30% (53/176)\u001b[K\rremote: Counting objects:  31% (55/176)\u001b[K\rremote: Counting objects:  32% (57/176)\u001b[K\rremote: Counting objects:  33% (59/176)\u001b[K\rremote: Counting objects:  34% (60/176)\u001b[K\rremote: Counting objects:  35% (62/176)\u001b[K\rremote: Counting objects:  36% (64/176)\u001b[K\rremote: Counting objects:  37% (66/176)\u001b[K\rremote: Counting objects:  38% (67/176)\u001b[K\rremote: Counting objects:  39% (69/176)\u001b[K\rremote: Counting objects:  40% (71/176)\u001b[K\rremote: Counting objects:  41% (73/176)\u001b[K\rremote: Counting objects:  42% (74/176)\u001b[K\rremote: Counting objects:  43% (76/176)\u001b[K\rremote: Counting objects:  44% (78/176)\u001b[K\rremote: Counting objects:  45% (80/176)\u001b[K\rremote: Counting objects:  46% (81/176)\u001b[K\rremote: Counting objects:  47% (83/176)\u001b[K\rremote: Counting objects:  48% (85/176)\u001b[K\rremote: Counting objects:  49% (87/176)\u001b[K\rremote: Counting objects:  50% (88/176)\u001b[K\rremote: Counting objects:  51% (90/176)\u001b[K\rremote: Counting objects:  52% (92/176)\u001b[K\rremote: Counting objects:  53% (94/176)\u001b[K\rremote: Counting objects:  54% (96/176)\u001b[K\rremote: Counting objects:  55% (97/176)\u001b[K\rremote: Counting objects:  56% (99/176)\u001b[K\rremote: Counting objects:  57% (101/176)\u001b[K\rremote: Counting objects:  58% (103/176)\u001b[K\rremote: Counting objects:  59% (104/176)\u001b[K\rremote: Counting objects:  60% (106/176)\u001b[K\rremote: Counting objects:  61% (108/176)\u001b[K\rremote: Counting objects:  62% (110/176)\u001b[K\rremote: Counting objects:  63% (111/176)\u001b[K\rremote: Counting objects:  64% (113/176)\u001b[K\rremote: Counting objects:  65% (115/176)\u001b[K\rremote: Counting objects:  66% (117/176)\u001b[K\rremote: Counting objects:  67% (118/176)\u001b[K\rremote: Counting objects:  68% (120/176)\u001b[K\rremote: Counting objects:  69% (122/176)\u001b[K\rremote: Counting objects:  70% (124/176)\u001b[K\rremote: Counting objects:  71% (125/176)\u001b[K\rremote: Counting objects:  72% (127/176)\u001b[K\rremote: Counting objects:  73% (129/176)\u001b[K\rremote: Counting objects:  74% (131/176)\u001b[K\rremote: Counting objects:  75% (132/176)\u001b[K\rremote: Counting objects:  76% (134/176)\u001b[K\rremote: Counting objects:  77% (136/176)\u001b[K\rremote: Counting objects:  78% (138/176)\u001b[K\rremote: Counting objects:  79% (140/176)\u001b[K\rremote: Counting objects:  80% (141/176)\u001b[K\rremote: Counting objects:  81% (143/176)\u001b[K\rremote: Counting objects:  82% (145/176)\u001b[K\rremote: Counting objects:  83% (147/176)\u001b[K\rremote: Counting objects:  84% (148/176)\u001b[K\rremote: Counting objects:  85% (150/176)\u001b[K\rremote: Counting objects:  86% (152/176)\u001b[K\rremote: Counting objects:  87% (154/176)\u001b[K\rremote: Counting objects:  88% (155/176)\u001b[K\rremote: Counting objects:  89% (157/176)\u001b[K\rremote: Counting objects:  90% (159/176)\u001b[K\rremote: Counting objects:  91% (161/176)\u001b[K\rremote: Counting objects:  92% (162/176)\u001b[K\rremote: Counting objects:  93% (164/176)\u001b[K\rremote: Counting objects:  94% (166/176)\u001b[K\rremote: Counting objects:  95% (168/176)\u001b[K\rremote: Counting objects:  96% (169/176)\u001b[K\rremote: Counting objects:  97% (171/176)\u001b[K\rremote: Counting objects:  98% (173/176)\u001b[K\rremote: Counting objects:  99% (175/176)\u001b[K\rremote: Counting objects: 100% (176/176)\u001b[K\rremote: Counting objects: 100% (176/176), done.\u001b[K\n",
            "remote: Compressing objects: 100% (76/76), done.\u001b[K\n",
            "remote: Total 327 (delta 111), reused 162 (delta 99), pack-reused 151\u001b[K\n",
            "Receiving objects: 100% (327/327), 9.76 MiB | 17.35 MiB/s, done.\n",
            "Resolving deltas: 100% (185/185), done.\n"
          ]
        }
      ]
    },
    {
      "cell_type": "code",
      "source": [
        "!pwd\n",
        "%cd FUFONE/PPO\n",
        "from environment import vectorize_env\n",
        "from agent_class import Agent\n",
        "from agent_utils import anneal, collect_data, GAE, PPO_train_agent, evaluate_agent\n",
        "\n",
        "#back to content directory\n",
        "%cd ..\n",
        "%cd ..\n"
      ],
      "metadata": {
        "colab": {
          "base_uri": "https://localhost:8080/"
        },
        "id": "n8oN8OwQN373",
        "outputId": "251fd836-98c6-4b78-f1eb-d619fe4021df"
      },
      "execution_count": 7,
      "outputs": [
        {
          "output_type": "stream",
          "name": "stdout",
          "text": [
            "/content\n",
            "/content/FUFONE/PPO\n",
            "/content/FUFONE\n",
            "/content\n"
          ]
        }
      ]
    },
    {
      "cell_type": "code",
      "source": [
        "#import main function from file\n",
        "!pwd\n",
        "%cd FUFONE/Sweep\n",
        "from sweep_main import train_main, parse_args, get_default_hyperparameters_and_names\n",
        "\n",
        "#back to content directory\n",
        "%cd ..\n",
        "%cd .."
      ],
      "metadata": {
        "id": "5iOCicwYP5YN",
        "colab": {
          "base_uri": "https://localhost:8080/"
        },
        "outputId": "b22a93c5-b453-4352-9216-3a63dc174f0f"
      },
      "execution_count": 8,
      "outputs": [
        {
          "output_type": "stream",
          "name": "stdout",
          "text": [
            "/content\n",
            "/content/FUFONE/Sweep\n",
            "/content/FUFONE\n",
            "/content\n"
          ]
        }
      ]
    },
    {
      "cell_type": "markdown",
      "source": [
        "## Define the sweep 📑\n",
        "I assume to start with a random search, that is why we take random distribution:\n",
        "*   `ent_coef ` ➡ Discrete uniform distribution on integers.\n",
        "*  ` num_envs`  ➡ list of values to try out\n",
        "*   `learning_rate` ➡  see ent_coef\n",
        "*  ` num_steps`  ➡ list of values to try out"
      ],
      "metadata": {
        "id": "_aGbm6Li1VpH"
      }
    },
    {
      "cell_type": "code",
      "source": [
        "import numpy as np\n",
        "import random\n",
        "\n",
        "# Define sweep config\n",
        "sweep_configuration = {\n",
        "    \"method\": \"random\",\n",
        "    \"name\": \"sweep_Fufi\",\n",
        "    \"metric\": {\"goal\": \"maximize\", \"name\": \"sum_episodes\"},\n",
        "    \"parameters\": {\n",
        "       \"num_steps\": {\"values\": [128, 256, 512, 2048, 4096, 8192]},\n",
        "       \"ent_coef\": {'distribution': 'uniform', 'min': 0.01,'max': 1},\n",
        "       \"num_envs\" : {\"values\": [2,4,8,16,32]},\n",
        "       \"learning_rate\":  {'distribution': 'uniform', 'min': 1.5e-7,'max': 1.5e-4}\n",
        "    },\n",
        "}\n"
      ],
      "metadata": {
        "id": "cWXt2P6o1VVc"
      },
      "execution_count": 9,
      "outputs": []
    },
    {
      "cell_type": "code",
      "execution_count": 10,
      "metadata": {
        "colab": {
          "base_uri": "https://localhost:8080/"
        },
        "id": "GYvhH9VK0hkU",
        "outputId": "7abb6931-af2a-4325-d6e0-e2e41fe51735"
      },
      "outputs": [
        {
          "output_type": "stream",
          "name": "stdout",
          "text": [
            "{'method': 'random',\n",
            " 'metric': {'goal': 'maximize', 'name': 'sum_episodes'},\n",
            " 'name': 'sweep_Fufi',\n",
            " 'parameters': {'ent_coef': {'distribution': 'uniform', 'max': 1, 'min': 0.01},\n",
            "                'learning_rate': {'distribution': 'uniform',\n",
            "                                  'max': 0.00015,\n",
            "                                  'min': 1.5e-07},\n",
            "                'num_envs': {'values': [2, 4, 8, 16, 32]},\n",
            "                'num_steps': {'values': [128, 256, 512, 2048, 4096, 8192]}}}\n"
          ]
        }
      ],
      "source": [
        "#print the result\n",
        "import pprint\n",
        "pprint.pprint(sweep_configuration)"
      ]
    },
    {
      "cell_type": "markdown",
      "source": [
        "## Run main with the sweep 🏃 🧹\n",
        "The `wandb.sweep` function initializes the sweep using the configuration. The `wandb.agent `function runs the sweep, executing the `sweep_main` function for each set of parameters.\n",
        "\n",
        "📚 **Handling Parameters in Script**: In `sweep_main`, `wandb.init()` initializes a run. The script updates the args with the parameters from the sweep `(wandb.config)`, which are then passed to the main function.\n",
        "\n",
        "📚 **Note**: Added `if __name__ == \"__main__\":` This ensures that main is called only when the script is executed directly, not when imported as a module."
      ],
      "metadata": {
        "id": "YnfIJfjCGrZw"
      }
    },
    {
      "cell_type": "code",
      "source": [
        "import wandb\n",
        "if __name__ == \"__main__\":\n",
        "    sweep_id = wandb.sweep(sweep=sweep_configuration, project=\"Fufi_sweep\")  # Set up the sweep\n",
        "\n",
        "    #get default configuration\n",
        "    default_config  = get_default_hyperparameters_and_names()\n",
        "\n",
        "    def sweep_train():\n",
        "      print(default_config)\n",
        "      parse_args(default_config)\n",
        "      train_main(default_config)\n"
      ],
      "metadata": {
        "id": "L6TXXCcTEJiY",
        "colab": {
          "base_uri": "https://localhost:8080/"
        },
        "outputId": "7573f577-59fd-4ce3-f992-c81f4392f4d6"
      },
      "execution_count": 11,
      "outputs": [
        {
          "output_type": "stream",
          "name": "stderr",
          "text": [
            "/usr/local/lib/python3.10/dist-packages/notebook/utils.py:280: DeprecationWarning: distutils Version classes are deprecated. Use packaging.version instead.\n",
            "  return LooseVersion(v) >= LooseVersion(check)\n"
          ]
        },
        {
          "output_type": "stream",
          "name": "stdout",
          "text": [
            "Create sweep with ID: q7flojfh\n",
            "Sweep URL: https://wandb.ai/cartpole_maria_gaia/Fufi_sweep/sweeps/q7flojfh\n"
          ]
        }
      ]
    },
    {
      "cell_type": "code",
      "source": [
        " wandb.agent(sweep_id, function=sweep_train, count = 50)"
      ],
      "metadata": {
        "id": "YsAeQ7STG7IA",
        "colab": {
          "base_uri": "https://localhost:8080/"
        },
        "outputId": "0c17b7b8-b25e-4d6d-e5ea-4a67aef3211a"
      },
      "execution_count": 12,
      "outputs": [
        {
          "output_type": "stream",
          "name": "stderr",
          "text": [
            "\u001b[34m\u001b[1mwandb\u001b[0m: Agent Starting Run: 2dy9nk6e with config:\n",
            "\u001b[34m\u001b[1mwandb\u001b[0m: \tent_coef: 0.3096027342320947\n",
            "\u001b[34m\u001b[1mwandb\u001b[0m: \tlearning_rate: 1.6650237413872244e-05\n",
            "\u001b[34m\u001b[1mwandb\u001b[0m: \tnum_envs: 16\n",
            "\u001b[34m\u001b[1mwandb\u001b[0m: \tnum_steps: 256\n",
            "ERROR:wandb.agents.pyagent:Run 2dy9nk6e errored:\n",
            "Traceback (most recent call last):\n",
            "  File \"/usr/local/lib/python3.10/dist-packages/wandb/agents/pyagent.py\", line 307, in _run_job\n",
            "    self._function()\n",
            "  File \"<ipython-input-11-37bcd94df82f>\", line 5, in sweep_train\n",
            "    print(default_config)\n",
            "NameError: name 'default_config' is not defined\n",
            "\n",
            "\u001b[34m\u001b[1mwandb\u001b[0m: \u001b[32m\u001b[41mERROR\u001b[0m Run 2dy9nk6e errored:\n",
            "\u001b[34m\u001b[1mwandb\u001b[0m: \u001b[32m\u001b[41mERROR\u001b[0m Traceback (most recent call last):\n",
            "\u001b[34m\u001b[1mwandb\u001b[0m: \u001b[32m\u001b[41mERROR\u001b[0m   File \"/usr/local/lib/python3.10/dist-packages/wandb/agents/pyagent.py\", line 307, in _run_job\n",
            "\u001b[34m\u001b[1mwandb\u001b[0m: \u001b[32m\u001b[41mERROR\u001b[0m     self._function()\n",
            "\u001b[34m\u001b[1mwandb\u001b[0m: \u001b[32m\u001b[41mERROR\u001b[0m   File \"<ipython-input-11-37bcd94df82f>\", line 5, in sweep_train\n",
            "\u001b[34m\u001b[1mwandb\u001b[0m: \u001b[32m\u001b[41mERROR\u001b[0m     print(default_config)\n",
            "\u001b[34m\u001b[1mwandb\u001b[0m: \u001b[32m\u001b[41mERROR\u001b[0m NameError: name 'default_config' is not defined\n",
            "\u001b[34m\u001b[1mwandb\u001b[0m: \u001b[32m\u001b[41mERROR\u001b[0m \n",
            "\u001b[34m\u001b[1mwandb\u001b[0m: Sweep Agent: Waiting for job.\n",
            "\u001b[34m\u001b[1mwandb\u001b[0m: Job received.\n",
            "\u001b[34m\u001b[1mwandb\u001b[0m: Agent Starting Run: cwyeolhs with config:\n",
            "\u001b[34m\u001b[1mwandb\u001b[0m: \tent_coef: 0.9201109843678232\n",
            "\u001b[34m\u001b[1mwandb\u001b[0m: \tlearning_rate: 8.044464699744225e-07\n",
            "\u001b[34m\u001b[1mwandb\u001b[0m: \tnum_envs: 8\n",
            "\u001b[34m\u001b[1mwandb\u001b[0m: \tnum_steps: 8192\n",
            "ERROR:wandb.agents.pyagent:Run cwyeolhs errored:\n",
            "Traceback (most recent call last):\n",
            "  File \"/usr/local/lib/python3.10/dist-packages/wandb/agents/pyagent.py\", line 307, in _run_job\n",
            "    self._function()\n",
            "  File \"<ipython-input-11-37bcd94df82f>\", line 5, in sweep_train\n",
            "    print(default_config)\n",
            "NameError: name 'default_config' is not defined\n",
            "\n",
            "\u001b[34m\u001b[1mwandb\u001b[0m: \u001b[32m\u001b[41mERROR\u001b[0m Run cwyeolhs errored:\n",
            "\u001b[34m\u001b[1mwandb\u001b[0m: \u001b[32m\u001b[41mERROR\u001b[0m Traceback (most recent call last):\n",
            "\u001b[34m\u001b[1mwandb\u001b[0m: \u001b[32m\u001b[41mERROR\u001b[0m   File \"/usr/local/lib/python3.10/dist-packages/wandb/agents/pyagent.py\", line 307, in _run_job\n",
            "\u001b[34m\u001b[1mwandb\u001b[0m: \u001b[32m\u001b[41mERROR\u001b[0m     self._function()\n",
            "\u001b[34m\u001b[1mwandb\u001b[0m: \u001b[32m\u001b[41mERROR\u001b[0m   File \"<ipython-input-11-37bcd94df82f>\", line 5, in sweep_train\n",
            "\u001b[34m\u001b[1mwandb\u001b[0m: \u001b[32m\u001b[41mERROR\u001b[0m     print(default_config)\n",
            "\u001b[34m\u001b[1mwandb\u001b[0m: \u001b[32m\u001b[41mERROR\u001b[0m NameError: name 'default_config' is not defined\n",
            "\u001b[34m\u001b[1mwandb\u001b[0m: \u001b[32m\u001b[41mERROR\u001b[0m \n",
            "\u001b[34m\u001b[1mwandb\u001b[0m: Agent Starting Run: 181tlwjd with config:\n",
            "\u001b[34m\u001b[1mwandb\u001b[0m: \tent_coef: 0.49726827824784864\n",
            "\u001b[34m\u001b[1mwandb\u001b[0m: \tlearning_rate: 0.0001164042405858144\n",
            "\u001b[34m\u001b[1mwandb\u001b[0m: \tnum_envs: 2\n",
            "\u001b[34m\u001b[1mwandb\u001b[0m: \tnum_steps: 8192\n",
            "ERROR:wandb.agents.pyagent:Run 181tlwjd errored:\n",
            "Traceback (most recent call last):\n",
            "  File \"/usr/local/lib/python3.10/dist-packages/wandb/agents/pyagent.py\", line 307, in _run_job\n",
            "    self._function()\n",
            "  File \"<ipython-input-11-37bcd94df82f>\", line 5, in sweep_train\n",
            "    print(default_config)\n",
            "NameError: name 'default_config' is not defined\n",
            "\n",
            "\u001b[34m\u001b[1mwandb\u001b[0m: \u001b[32m\u001b[41mERROR\u001b[0m Run 181tlwjd errored:\n",
            "\u001b[34m\u001b[1mwandb\u001b[0m: \u001b[32m\u001b[41mERROR\u001b[0m Traceback (most recent call last):\n",
            "\u001b[34m\u001b[1mwandb\u001b[0m: \u001b[32m\u001b[41mERROR\u001b[0m   File \"/usr/local/lib/python3.10/dist-packages/wandb/agents/pyagent.py\", line 307, in _run_job\n",
            "\u001b[34m\u001b[1mwandb\u001b[0m: \u001b[32m\u001b[41mERROR\u001b[0m     self._function()\n",
            "\u001b[34m\u001b[1mwandb\u001b[0m: \u001b[32m\u001b[41mERROR\u001b[0m   File \"<ipython-input-11-37bcd94df82f>\", line 5, in sweep_train\n",
            "\u001b[34m\u001b[1mwandb\u001b[0m: \u001b[32m\u001b[41mERROR\u001b[0m     print(default_config)\n",
            "\u001b[34m\u001b[1mwandb\u001b[0m: \u001b[32m\u001b[41mERROR\u001b[0m NameError: name 'default_config' is not defined\n",
            "\u001b[34m\u001b[1mwandb\u001b[0m: \u001b[32m\u001b[41mERROR\u001b[0m \n",
            "ERROR:wandb.agents.pyagent:Detected 3 failed runs in the first 60 seconds, killing sweep.\n",
            "\u001b[34m\u001b[1mwandb\u001b[0m: \u001b[32m\u001b[41mERROR\u001b[0m Detected 3 failed runs in the first 60 seconds, killing sweep.\n",
            "\u001b[34m\u001b[1mwandb\u001b[0m: To disable this check set WANDB_AGENT_DISABLE_FLAPPING=true\n"
          ]
        }
      ]
    },
    {
      "cell_type": "code",
      "source": [],
      "metadata": {
        "id": "4d6pcJ3MzCyV"
      },
      "execution_count": null,
      "outputs": []
    }
  ]
}