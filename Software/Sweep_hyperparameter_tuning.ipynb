{
  "nbformat": 4,
  "nbformat_minor": 0,
  "metadata": {
    "colab": {
      "provenance": []
    },
    "kernelspec": {
      "name": "python3",
      "display_name": "Python 3"
    },
    "language_info": {
      "name": "python"
    }
  },
  "cells": [
    {
      "cell_type": "markdown",
      "source": [
        "# Tuning Fufi hyperparameters with W&B Sweep 🧹 🐶\n",
        "The idea is automatically tuning hyperparameters with the sweep by the means of a `grid `search.\n",
        "In order not to spend an eternity doing this thing, we start with a` random` search, and then put a `grid `search on it."
      ],
      "metadata": {
        "id": "oPwUAOD80pAf"
      }
    },
    {
      "cell_type": "markdown",
      "source": [
        "## W&B Setup\n",
        "🪄 Install `wandb` library and login\n",
        "\n",
        "Start by installing the library and logging in to your free account."
      ],
      "metadata": {
        "id": "iIhr-60kNaKy"
      }
    },
    {
      "cell_type": "code",
      "source": [
        "!pip install wandb -qU\n",
        "# Log in to your W&B account\n",
        "import wandb\n",
        "wandb.login()"
      ],
      "metadata": {
        "colab": {
          "base_uri": "https://localhost:8080/",
          "height": 191
        },
        "id": "0klJrqifNa_R",
        "outputId": "9d3740e9-06d4-4666-be91-40561486233c"
      },
      "execution_count": 1,
      "outputs": [
        {
          "output_type": "stream",
          "name": "stdout",
          "text": [
            "\u001b[2K   \u001b[90m━━━━━━━━━━━━━━━━━━━━━━━━━━━━━━━━━━━━━━━━\u001b[0m \u001b[32m9.4/9.4 MB\u001b[0m \u001b[31m24.6 MB/s\u001b[0m eta \u001b[36m0:00:00\u001b[0m\n",
            "\u001b[2K   \u001b[90m━━━━━━━━━━━━━━━━━━━━━━━━━━━━━━━━━━━━━━━━\u001b[0m \u001b[32m207.3/207.3 kB\u001b[0m \u001b[31m4.2 MB/s\u001b[0m eta \u001b[36m0:00:00\u001b[0m\n",
            "\u001b[2K   \u001b[90m━━━━━━━━━━━━━━━━━━━━━━━━━━━━━━━━━━━━━━━━\u001b[0m \u001b[32m309.1/309.1 kB\u001b[0m \u001b[31m8.2 MB/s\u001b[0m eta \u001b[36m0:00:00\u001b[0m\n",
            "\u001b[2K   \u001b[90m━━━━━━━━━━━━━━━━━━━━━━━━━━━━━━━━━━━━━━━━\u001b[0m \u001b[32m62.7/62.7 kB\u001b[0m \u001b[31m2.1 MB/s\u001b[0m eta \u001b[36m0:00:00\u001b[0m\n",
            "\u001b[?25h"
          ]
        },
        {
          "output_type": "display_data",
          "data": {
            "text/plain": [
              "<IPython.core.display.Javascript object>"
            ],
            "application/javascript": [
              "\n",
              "        window._wandbApiKey = new Promise((resolve, reject) => {\n",
              "            function loadScript(url) {\n",
              "            return new Promise(function(resolve, reject) {\n",
              "                let newScript = document.createElement(\"script\");\n",
              "                newScript.onerror = reject;\n",
              "                newScript.onload = resolve;\n",
              "                document.body.appendChild(newScript);\n",
              "                newScript.src = url;\n",
              "            });\n",
              "            }\n",
              "            loadScript(\"https://cdn.jsdelivr.net/npm/postmate/build/postmate.min.js\").then(() => {\n",
              "            const iframe = document.createElement('iframe')\n",
              "            iframe.style.cssText = \"width:0;height:0;border:none\"\n",
              "            document.body.appendChild(iframe)\n",
              "            const handshake = new Postmate({\n",
              "                container: iframe,\n",
              "                url: 'https://wandb.ai/authorize'\n",
              "            });\n",
              "            const timeout = setTimeout(() => reject(\"Couldn't auto authenticate\"), 5000)\n",
              "            handshake.then(function(child) {\n",
              "                child.on('authorize', data => {\n",
              "                    clearTimeout(timeout)\n",
              "                    resolve(data)\n",
              "                });\n",
              "            });\n",
              "            })\n",
              "        });\n",
              "    "
            ]
          },
          "metadata": {}
        },
        {
          "output_type": "stream",
          "name": "stderr",
          "text": [
            "\u001b[34m\u001b[1mwandb\u001b[0m: Logging into wandb.ai. (Learn how to deploy a W&B server locally: https://wandb.me/wandb-server)\n",
            "\u001b[34m\u001b[1mwandb\u001b[0m: You can find your API key in your browser here: https://wandb.ai/authorize\n",
            "wandb: Paste an API key from your profile and hit enter, or press ctrl+c to quit:"
          ]
        },
        {
          "name": "stdout",
          "output_type": "stream",
          "text": [
            " ··········\n"
          ]
        },
        {
          "output_type": "stream",
          "name": "stderr",
          "text": [
            "\u001b[34m\u001b[1mwandb\u001b[0m: Appending key for api.wandb.ai to your netrc file: /root/.netrc\n"
          ]
        },
        {
          "output_type": "execute_result",
          "data": {
            "text/plain": [
              "True"
            ]
          },
          "metadata": {},
          "execution_count": 1
        }
      ]
    },
    {
      "cell_type": "markdown",
      "source": [
        "## Installing libraries 📚"
      ],
      "metadata": {
        "id": "F5JDlRY-Nhh_"
      }
    },
    {
      "cell_type": "code",
      "source": [
        "!pip install gym==0.25.2\n",
        "#needed from March\n",
        "!pip install numpy==1.23.5"
      ],
      "metadata": {
        "colab": {
          "base_uri": "https://localhost:8080/"
        },
        "id": "NfXquseoNiSm",
        "outputId": "0255503a-b179-4e0a-e014-6976ac6037c8"
      },
      "execution_count": 1,
      "outputs": [
        {
          "output_type": "stream",
          "name": "stdout",
          "text": [
            "Requirement already satisfied: gym==0.25.2 in /usr/local/lib/python3.10/dist-packages (0.25.2)\n",
            "Requirement already satisfied: numpy>=1.18.0 in /usr/local/lib/python3.10/dist-packages (from gym==0.25.2) (1.23.5)\n",
            "Requirement already satisfied: cloudpickle>=1.2.0 in /usr/local/lib/python3.10/dist-packages (from gym==0.25.2) (2.2.1)\n",
            "Requirement already satisfied: gym-notices>=0.0.4 in /usr/local/lib/python3.10/dist-packages (from gym==0.25.2) (0.0.8)\n",
            "Requirement already satisfied: numpy==1.23.5 in /usr/local/lib/python3.10/dist-packages (1.23.5)\n"
          ]
        }
      ]
    },
    {
      "cell_type": "code",
      "source": [
        "!pip install stable_baselines3 -qU"
      ],
      "metadata": {
        "colab": {
          "base_uri": "https://localhost:8080/"
        },
        "id": "4clpxdxVyZhr",
        "outputId": "ea574613-ae37-441b-e335-36a0b5a07ebc"
      },
      "execution_count": 2,
      "outputs": [
        {
          "output_type": "stream",
          "name": "stdout",
          "text": [
            "\u001b[?25l   \u001b[90m━━━━━━━━━━━━━━━━━━━━━━━━━━━━━━━━━━━━━━━━\u001b[0m \u001b[32m0.0/182.3 kB\u001b[0m \u001b[31m?\u001b[0m eta \u001b[36m-:--:--\u001b[0m\r\u001b[2K   \u001b[90m━━━━━━━━━━━━━━━━━━━━━━━━━━━━━━━━━━━━━━━━\u001b[0m \u001b[32m182.3/182.3 kB\u001b[0m \u001b[31m8.8 MB/s\u001b[0m eta \u001b[36m0:00:00\u001b[0m\n",
            "\u001b[?25h\u001b[?25l   \u001b[90m━━━━━━━━━━━━━━━━━━━━━━━━━━━━━━━━━━━━━━━━\u001b[0m \u001b[32m0.0/953.9 kB\u001b[0m \u001b[31m?\u001b[0m eta \u001b[36m-:--:--\u001b[0m\r\u001b[2K   \u001b[90m━━━━━━━━━━━━━━━━━━━━━━━━━━━━━━━━━━━━━━━━\u001b[0m \u001b[32m953.9/953.9 kB\u001b[0m \u001b[31m30.4 MB/s\u001b[0m eta \u001b[36m0:00:00\u001b[0m\n",
            "\u001b[?25h"
          ]
        }
      ]
    },
    {
      "cell_type": "markdown",
      "source": [
        "## Setting things up for the environment 🌍 🪖"
      ],
      "metadata": {
        "id": "VKJiyItvPINy"
      }
    },
    {
      "cell_type": "code",
      "source": [
        "#cloning Fufi repo from git\n",
        "!git clone https://github.com/Gaianeve/gym-TheRealFufi.git\n",
        "#installing things\n",
        "!pip install /content/gym-TheRealFufi"
      ],
      "metadata": {
        "id": "VsHS4kG0PIzB",
        "colab": {
          "base_uri": "https://localhost:8080/"
        },
        "outputId": "272da809-f59b-4a5e-dd89-fa8c0dc2209c"
      },
      "execution_count": 3,
      "outputs": [
        {
          "output_type": "stream",
          "name": "stdout",
          "text": [
            "Cloning into 'gym-TheRealFufi'...\n",
            "remote: Enumerating objects: 39, done.\u001b[K\n",
            "remote: Counting objects: 100% (39/39), done.\u001b[K\n",
            "remote: Compressing objects: 100% (37/37), done.\u001b[K\n",
            "remote: Total 39 (delta 4), reused 0 (delta 0), pack-reused 0 (from 0)\u001b[K\n",
            "Receiving objects: 100% (39/39), 15.16 KiB | 7.58 MiB/s, done.\n",
            "Resolving deltas: 100% (4/4), done.\n",
            "Processing ./gym-TheRealFufi\n",
            "  \u001b[1;31merror\u001b[0m: \u001b[1msubprocess-exited-with-error\u001b[0m\n",
            "  \n",
            "  \u001b[31m×\u001b[0m \u001b[32mpython setup.py egg_info\u001b[0m did not run successfully.\n",
            "  \u001b[31m│\u001b[0m exit code: \u001b[1;36m1\u001b[0m\n",
            "  \u001b[31m╰─>\u001b[0m See above for output.\n",
            "  \n",
            "  \u001b[1;35mnote\u001b[0m: This error originates from a subprocess, and is likely not a problem with pip.\n",
            "  Preparing metadata (setup.py) ... \u001b[?25l\u001b[?25herror\n",
            "\u001b[1;31merror\u001b[0m: \u001b[1mmetadata-generation-failed\u001b[0m\n",
            "\n",
            "\u001b[31m×\u001b[0m Encountered error while generating package metadata.\n",
            "\u001b[31m╰─>\u001b[0m See above for output.\n",
            "\n",
            "\u001b[1;35mnote\u001b[0m: This is an issue with the package mentioned above, not pip.\n",
            "\u001b[1;36mhint\u001b[0m: See above for details.\n"
          ]
        }
      ]
    },
    {
      "cell_type": "code",
      "source": [
        "# Enter the environment directory\n",
        "%cd /content/gym-TheRealFufi\n",
        "# Actually importing the library for our environment\n",
        "import gym_TheRealFufi"
      ],
      "metadata": {
        "id": "br2wneHpPNeT",
        "colab": {
          "base_uri": "https://localhost:8080/"
        },
        "outputId": "b26aaf57-737d-4eda-a52c-b5aacb192a16"
      },
      "execution_count": 4,
      "outputs": [
        {
          "output_type": "stream",
          "name": "stdout",
          "text": [
            "/content/gym-TheRealFufi\n"
          ]
        }
      ]
    },
    {
      "cell_type": "code",
      "source": [
        "#get back to content directory so I save everything there\n",
        "%cd ..\n",
        "!pwd"
      ],
      "metadata": {
        "id": "eJF9TbTTPQHr",
        "colab": {
          "base_uri": "https://localhost:8080/"
        },
        "outputId": "89cb7f6d-34f1-4049-96fe-650c0559e1c0"
      },
      "execution_count": 5,
      "outputs": [
        {
          "output_type": "stream",
          "name": "stdout",
          "text": [
            "/content\n",
            "/content\n"
          ]
        },
        {
          "output_type": "stream",
          "name": "stderr",
          "text": [
            "/usr/local/lib/python3.10/dist-packages/ipykernel/ipkernel.py:283: DeprecationWarning: `should_run_async` will not call `transform_cell` automatically in the future. Please pass the result to `transformed_cell` argument and any exception that happen during thetransform in `preprocessing_exc_tuple` in IPython 7.17 and above.\n",
            "  and should_run_async(code)\n"
          ]
        }
      ]
    },
    {
      "cell_type": "markdown",
      "source": [
        "## importing libraries and functions 📚\n"
      ],
      "metadata": {
        "id": "j-x6XBUbPTuH"
      }
    },
    {
      "cell_type": "code",
      "source": [
        "#libraries\n",
        "import argparse\n",
        "import random\n",
        "import time\n",
        "from distutils.util import strtobool\n",
        "import gym\n",
        "import numpy as np\n",
        "\n",
        "import torch\n",
        "import torch.nn as nn\n",
        "import torch.optim as optim\n",
        "import torch.optim.lr_scheduler as lr_scheduler\n",
        "from torch.distributions.categorical import Categorical\n",
        "from torch.utils.tensorboard import SummaryWriter\n",
        "from torchsummary import summary"
      ],
      "metadata": {
        "id": "k9cov0f4PXf-"
      },
      "execution_count": 6,
      "outputs": []
    },
    {
      "cell_type": "markdown",
      "source": [
        "## Log needed function from files 📡\n",
        "Loading files directly from git, so I don't have to upload it by hand."
      ],
      "metadata": {
        "id": "Qj7CFfgcPmoh"
      }
    },
    {
      "cell_type": "code",
      "source": [
        "#get files from git\n",
        "!git clone https://github.com/Gaianeve/The_real_Fufi.git"
      ],
      "metadata": {
        "id": "_HEbAf60PrGS",
        "colab": {
          "base_uri": "https://localhost:8080/"
        },
        "outputId": "4f47cb57-95b8-4609-f648-78c4b80de80b"
      },
      "execution_count": 7,
      "outputs": [
        {
          "output_type": "stream",
          "name": "stderr",
          "text": [
            "/usr/local/lib/python3.10/dist-packages/ipykernel/ipkernel.py:283: DeprecationWarning: `should_run_async` will not call `transform_cell` automatically in the future. Please pass the result to `transformed_cell` argument and any exception that happen during thetransform in `preprocessing_exc_tuple` in IPython 7.17 and above.\n",
            "  and should_run_async(code)\n"
          ]
        },
        {
          "output_type": "stream",
          "name": "stdout",
          "text": [
            "Cloning into 'The_real_Fufi'...\n",
            "remote: Enumerating objects: 493, done.\u001b[K\n",
            "remote: Counting objects: 100% (289/289), done.\u001b[K\n",
            "remote: Compressing objects: 100% (193/193), done.\u001b[K\n",
            "remote: Total 493 (delta 132), reused 203 (delta 96), pack-reused 204 (from 1)\u001b[K\n",
            "Receiving objects: 100% (493/493), 7.54 MiB | 9.97 MiB/s, done.\n",
            "Resolving deltas: 100% (223/223), done.\n"
          ]
        }
      ]
    },
    {
      "cell_type": "code",
      "source": [
        "!pwd\n",
        "%cd The_real_Fufi/Software\n",
        "from environment import vectorize_env\n",
        "from agent_class import Agent\n",
        "from agent_utils import anneal, collect_data, GAE, PPO_train_agent, evaluate_agent\n"
      ],
      "metadata": {
        "colab": {
          "base_uri": "https://localhost:8080/"
        },
        "id": "n8oN8OwQN373",
        "outputId": "e23f81be-0b0c-4171-b8a9-d88ee3a3fa7e"
      },
      "execution_count": 8,
      "outputs": [
        {
          "output_type": "stream",
          "name": "stdout",
          "text": [
            "/content\n",
            "/content/The_real_Fufi/Software\n"
          ]
        }
      ]
    },
    {
      "cell_type": "code",
      "source": [
        "#back to content directory just to be sure\n",
        "%cd ..\n",
        "%cd .."
      ],
      "metadata": {
        "colab": {
          "base_uri": "https://localhost:8080/"
        },
        "id": "WbEC1fEayxY1",
        "outputId": "02a3366c-70be-404a-e971-f8a64104336c"
      },
      "execution_count": 9,
      "outputs": [
        {
          "output_type": "stream",
          "name": "stdout",
          "text": [
            "/content/The_real_Fufi\n",
            "/content\n"
          ]
        },
        {
          "output_type": "stream",
          "name": "stderr",
          "text": [
            "/usr/local/lib/python3.10/dist-packages/ipykernel/ipkernel.py:283: DeprecationWarning: `should_run_async` will not call `transform_cell` automatically in the future. Please pass the result to `transformed_cell` argument and any exception that happen during thetransform in `preprocessing_exc_tuple` in IPython 7.17 and above.\n",
            "  and should_run_async(code)\n"
          ]
        }
      ]
    },
    {
      "cell_type": "code",
      "source": [
        "#import main function from file\n",
        "!pwd\n",
        "%cd The_real_Fufi/Software\n",
        "from sweep_main import train_main, parse_args, get_default_hyperparameters_and_names\n",
        "\n",
        "#back to content directory\n",
        "%cd ..\n",
        "%cd .."
      ],
      "metadata": {
        "id": "5iOCicwYP5YN",
        "colab": {
          "base_uri": "https://localhost:8080/"
        },
        "outputId": "575ec356-8e2a-405c-c426-127c5d2fd847"
      },
      "execution_count": 10,
      "outputs": [
        {
          "output_type": "stream",
          "name": "stdout",
          "text": [
            "/content\n",
            "/content/The_real_Fufi/Software\n",
            "/content/The_real_Fufi\n",
            "/content\n"
          ]
        },
        {
          "output_type": "stream",
          "name": "stderr",
          "text": [
            "/usr/local/lib/python3.10/dist-packages/wandb/analytics/sentry.py:90: SentryHubDeprecationWarning: `sentry_sdk.Hub` is deprecated and will be removed in a future major release. Please consult our 1.x to 2.x migration guide for details on how to migrate `Hub` usage to the new API: https://docs.sentry.io/platforms/python/migration/1.x-to-2.x\n",
            "  self.hub = sentry_sdk.Hub(client)\n"
          ]
        }
      ]
    },
    {
      "cell_type": "markdown",
      "source": [
        "## Define the sweep 📑\n",
        "Standard default parameters from *stable baseline* work pretty well, so I guess a vanilla random, search with the valus that i give him, would be more than enough. I move in the range i see on the internet for a continous PPO with gSDE\n",
        "\n",
        "*   `beta ` ➡ in [0.2,0.4] at a pace of 0.02\n",
        "*  ` num_envs`  ➡ 4,8,16\n",
        "*   `learning_rate` ➡ in [1e**-4, 3e**-4] at a pace 0.2\n",
        "*  ` num_steps`  ➡ in [128, 2048] by powers of 2\n",
        "*  ` num_minibatch`  ➡ in [4, 32] by powers of 2"
      ],
      "metadata": {
        "id": "_aGbm6Li1VpH"
      }
    },
    {
      "cell_type": "code",
      "source": [
        "import numpy as np\n",
        "import random\n",
        "\n",
        "# Define sweep config\n",
        "sweep_configuration = {\n",
        "    \"method\": \"random\",\n",
        "    \"name\": \"sweep_The_Real_Fufi\",\n",
        "    \"metric\": {\"goal\": \"maximize\", \"name\": \"sum_episodes\"},\n",
        "    \"parameters\": {\n",
        "       \"num_steps\": {\"values\": [128, 256, 512, 2048]},\n",
        "       \"num_envs\" : {\"values\": [2,4,8,16]},\n",
        "       \"beta\" : {\"values\": [0.20, 0.22, 0.24, 0.26, 0.28, 0.30, 0.32, 0.34, 0.36, 0.38, 0.40]},\n",
        "       \"learning_rate\":  {\"values\": [0.0001, 0.00012,0.00014, 0.00016,0.00018,0.00020, 0.00022, \\\n",
        "                                     0.00024, 0.00026, 0.00028, 0.00030]},\n",
        "       \"num_minibatches\": {\"values\": [4, 8, 16, 32]},\n",
        "    },\n",
        "}\n"
      ],
      "metadata": {
        "id": "cWXt2P6o1VVc"
      },
      "execution_count": 15,
      "outputs": []
    },
    {
      "cell_type": "code",
      "execution_count": 16,
      "metadata": {
        "colab": {
          "base_uri": "https://localhost:8080/"
        },
        "id": "GYvhH9VK0hkU",
        "outputId": "bcca6682-5227-44eb-a3ef-58b8f936a3c3"
      },
      "outputs": [
        {
          "output_type": "stream",
          "name": "stdout",
          "text": [
            "{'method': 'random',\n",
            " 'metric': {'goal': 'maximize', 'name': 'sum_episodes'},\n",
            " 'name': 'sweep_The_Real_Fufi',\n",
            " 'parameters': {'beta': {'values': [0.2,\n",
            "                                    0.22,\n",
            "                                    0.24,\n",
            "                                    0.26,\n",
            "                                    0.28,\n",
            "                                    0.3,\n",
            "                                    0.32,\n",
            "                                    0.34,\n",
            "                                    0.36,\n",
            "                                    0.38,\n",
            "                                    0.4]},\n",
            "                'learning_rate': {'values': [0.0001,\n",
            "                                             0.00012,\n",
            "                                             0.00014,\n",
            "                                             0.00016,\n",
            "                                             0.00018,\n",
            "                                             0.0002,\n",
            "                                             0.00022,\n",
            "                                             0.00024,\n",
            "                                             0.00026,\n",
            "                                             0.00028,\n",
            "                                             0.0003]},\n",
            "                'num_envs': {'values': [2, 4, 8, 16]},\n",
            "                'num_minibatches': {'values': [4, 8, 16, 32]},\n",
            "                'num_steps': {'values': [128, 256, 512, 2048]}}}\n"
          ]
        }
      ],
      "source": [
        "#print the result\n",
        "import pprint\n",
        "pprint.pprint(sweep_configuration)"
      ]
    },
    {
      "cell_type": "markdown",
      "source": [
        "## Run main with the sweep 🏃 🧹\n",
        "The `wandb.sweep` function initializes the sweep using the configuration. The `wandb.agent `function runs the sweep, executing the `sweep_main` function for each set of parameters.\n",
        "\n",
        "📚 **Handling Parameters in Script**: In `sweep_main`, `wandb.init()` initializes a run. The script updates the args with the parameters from the sweep `(wandb.config)`, which are then passed to the main function.\n",
        "\n",
        "📚 **Note**: Added `if __name__ == \"__main__\":` This ensures that main is called only when the script is executed directly, not when imported as a module."
      ],
      "metadata": {
        "id": "YnfIJfjCGrZw"
      }
    },
    {
      "cell_type": "code",
      "source": [
        "import wandb\n",
        "if __name__ == \"__main__\":\n",
        "    sweep_id = wandb.sweep(sweep=sweep_configuration, project=\"The_Real_Fufino_sweep\")  # Set up the sweep\n",
        "\n",
        "    #get default configuration\n",
        "    default_config  = get_default_hyperparameters_and_names()\n",
        "\n",
        "    def sweep_train():\n",
        "      print(default_config)\n",
        "      parse_args(default_config)\n",
        "      train_main(default_config)\n"
      ],
      "metadata": {
        "id": "L6TXXCcTEJiY",
        "colab": {
          "base_uri": "https://localhost:8080/"
        },
        "outputId": "7c589b91-f312-4393-cce1-cf1e7ae41606"
      },
      "execution_count": 18,
      "outputs": [
        {
          "output_type": "stream",
          "name": "stdout",
          "text": [
            "Create sweep with ID: vj6gktsx\n",
            "Sweep URL: https://wandb.ai/cartpole_maria_gaia/The_Real_Fufino_sweep/sweeps/vj6gktsx\n"
          ]
        }
      ]
    },
    {
      "cell_type": "code",
      "source": [
        " wandb.agent(sweep_id, function=sweep_train, count = 50)"
      ],
      "metadata": {
        "id": "YsAeQ7STG7IA",
        "colab": {
          "base_uri": "https://localhost:8080/",
          "height": 731
        },
        "outputId": "58b008a7-bfe3-4017-cc2c-f11c3287cc06"
      },
      "execution_count": null,
      "outputs": [
        {
          "output_type": "stream",
          "name": "stderr",
          "text": [
            "\u001b[34m\u001b[1mwandb\u001b[0m: Agent Starting Run: 6vqbnipr with config:\n",
            "\u001b[34m\u001b[1mwandb\u001b[0m: \tbeta: 0.4\n",
            "\u001b[34m\u001b[1mwandb\u001b[0m: \tlearning_rate: 0.0002\n",
            "\u001b[34m\u001b[1mwandb\u001b[0m: \tnum_envs: 16\n",
            "\u001b[34m\u001b[1mwandb\u001b[0m: \tnum_minibatches: 8\n",
            "\u001b[34m\u001b[1mwandb\u001b[0m: \tnum_steps: 2048\n"
          ]
        },
        {
          "output_type": "stream",
          "name": "stdout",
          "text": [
            "namespace(exp_name='The_Real_Fufi_adventures', gym_id='TheRealFufi-v0', torch_deterministic=True, cuda=True, wandb_project_name='The_Real_Fufino_sweep', wandb_entity=None, capture_video=True, beta=0.3, lr=0.00025, seed=1, total_timesteps=1000000, num_envs=4, num_steps=128, anneal_lr=True, gae=True, gamma=0.99, gae_lambda=0.95, num_minibatches=4, update_epochs=10, norm_adv=True, clip_coef=0.2, clip_vloss=True, ent_coef=0.01, vf_coef=0.5, max_grad_norm=0.5, target_kl=None)\n"
          ]
        },
        {
          "output_type": "stream",
          "name": "stderr",
          "text": [
            "\u001b[34m\u001b[1mwandb\u001b[0m: \u001b[33mWARNING\u001b[0m Ignored wandb.init() arg project when running a sweep.\n"
          ]
        },
        {
          "output_type": "display_data",
          "data": {
            "text/plain": [
              "<IPython.core.display.HTML object>"
            ],
            "text/html": [
              "Tracking run with wandb version 0.17.8"
            ]
          },
          "metadata": {}
        },
        {
          "output_type": "display_data",
          "data": {
            "text/plain": [
              "<IPython.core.display.HTML object>"
            ],
            "text/html": [
              "Run data is saved locally in <code>/content/wandb/run-20240902_092545-6vqbnipr</code>"
            ]
          },
          "metadata": {}
        },
        {
          "output_type": "display_data",
          "data": {
            "text/plain": [
              "<IPython.core.display.HTML object>"
            ],
            "text/html": [
              "Syncing run <strong><a href='https://wandb.ai/cartpole_maria_gaia/The_Real_Fufino_sweep/runs/6vqbnipr' target=\"_blank\">TheRealFufi-v0__The_Real_Fufi_adventures__1__1725269143</a></strong> to <a href='https://wandb.ai/cartpole_maria_gaia/The_Real_Fufino_sweep' target=\"_blank\">Weights & Biases</a> (<a href='https://wandb.me/run' target=\"_blank\">docs</a>)<br/>Sweep page: <a href='https://wandb.ai/cartpole_maria_gaia/The_Real_Fufino_sweep/sweeps/vj6gktsx' target=\"_blank\">https://wandb.ai/cartpole_maria_gaia/The_Real_Fufino_sweep/sweeps/vj6gktsx</a>"
            ]
          },
          "metadata": {}
        },
        {
          "output_type": "display_data",
          "data": {
            "text/plain": [
              "<IPython.core.display.HTML object>"
            ],
            "text/html": [
              " View project at <a href='https://wandb.ai/cartpole_maria_gaia/The_Real_Fufino_sweep' target=\"_blank\">https://wandb.ai/cartpole_maria_gaia/The_Real_Fufino_sweep</a>"
            ]
          },
          "metadata": {}
        },
        {
          "output_type": "display_data",
          "data": {
            "text/plain": [
              "<IPython.core.display.HTML object>"
            ],
            "text/html": [
              " View sweep at <a href='https://wandb.ai/cartpole_maria_gaia/The_Real_Fufino_sweep/sweeps/vj6gktsx' target=\"_blank\">https://wandb.ai/cartpole_maria_gaia/The_Real_Fufino_sweep/sweeps/vj6gktsx</a>"
            ]
          },
          "metadata": {}
        },
        {
          "output_type": "display_data",
          "data": {
            "text/plain": [
              "<IPython.core.display.HTML object>"
            ],
            "text/html": [
              " View run at <a href='https://wandb.ai/cartpole_maria_gaia/The_Real_Fufino_sweep/runs/6vqbnipr' target=\"_blank\">https://wandb.ai/cartpole_maria_gaia/The_Real_Fufino_sweep/runs/6vqbnipr</a>"
            ]
          },
          "metadata": {}
        },
        {
          "output_type": "stream",
          "name": "stderr",
          "text": [
            "\u001b[34m\u001b[1mwandb\u001b[0m: \u001b[33mWARNING\u001b[0m When using several event log directories, please call `wandb.tensorboard.patch(root_logdir=\"...\")` before `wandb.init`\n",
            "/usr/local/lib/python3.10/dist-packages/gym/core.py:317: DeprecationWarning: \u001b[33mWARN: Initializing wrapper in old step API which returns one bool instead of two. It is recommended to set `new_step_api=True` to use new step API. This will be the default behaviour in future.\u001b[0m\n",
            "  deprecation(\n",
            "/usr/local/lib/python3.10/dist-packages/gym/wrappers/step_api_compatibility.py:39: DeprecationWarning: \u001b[33mWARN: Initializing environment in old step API which returns one bool instead of two. It is recommended to set `new_step_api=True` to use new step API. This will be the default behaviour in future.\u001b[0m\n",
            "  deprecation(\n",
            "/usr/local/lib/python3.10/dist-packages/gym/core.py:256: DeprecationWarning: \u001b[33mWARN: Function `env.seed(seed)` is marked as deprecated and will be removed in the future. Please use `env.reset(seed=seed)` instead.\u001b[0m\n",
            "  deprecation(\n",
            "/usr/local/lib/python3.10/dist-packages/gym/vector/vector_env.py:56: DeprecationWarning: \u001b[33mWARN: Initializing vector env in old step API which returns one bool array instead of two. It is recommended to set `new_step_api=True` to use new step API. This will be the default behaviour in future.\u001b[0m\n",
            "  deprecation(\n",
            "/usr/local/lib/python3.10/dist-packages/gym/utils/passive_env_checker.py:190: UserWarning: \u001b[33mWARN: Future gym versions will require that `Env.reset` can be passed `return_info` to return information from the environment resetting.\u001b[0m\n",
            "  logger.warn(\n",
            "/usr/local/lib/python3.10/dist-packages/gym/wrappers/monitoring/video_recorder.py:78: DeprecationWarning: \u001b[33mWARN: Recording ability for environment TheRealFufi-v0 initialized with `render_mode=None` is marked as deprecated and will be removed in the future.\u001b[0m\n",
            "  logger.deprecation(\n",
            "/usr/local/lib/python3.10/dist-packages/gym/core.py:43: DeprecationWarning: \u001b[33mWARN: The argument mode in render method is deprecated; use render_mode during environment initialization instead.\n",
            "See here for more information: https://www.gymlibrary.ml/content/api/\u001b[0m\n",
            "  deprecation(\n",
            "/usr/lib/python3.10/subprocess.py:1796: RuntimeWarning: os.fork() was called. os.fork() is incompatible with multithreaded code, and JAX is multithreaded, so this will likely lead to a deadlock.\n",
            "  self.pid = _posixsubprocess.fork_exec(\n",
            "/usr/local/lib/python3.10/dist-packages/gym/utils/passive_env_checker.py:190: UserWarning: \u001b[33mWARN: Future gym versions will require that `Env.reset` can be passed `return_info` to return information from the environment resetting.\u001b[0m\n",
            "  logger.warn(\n",
            "/content/gym-TheRealFufi/gym_TheRealFufi/envs/TheRealFufi_env.py:214: DeprecationWarning: setting an array element with a sequence. This was supported in some cases where the elements are arrays with a single element. For example `np.array([1, np.array([2])], dtype=int)`. In the future this will raise the same ValueError as `np.array([1, [2]], dtype=int)`.\n",
            "  return np.array(self.state, dtype=np.float32), reward, terminated, False, {}\n",
            "/usr/local/lib/python3.10/dist-packages/gym/core.py:43: DeprecationWarning: \u001b[33mWARN: The argument mode in render method is deprecated; use render_mode during environment initialization instead.\n",
            "See here for more information: https://www.gymlibrary.ml/content/api/\u001b[0m\n",
            "  deprecation(\n"
          ]
        }
      ]
    },
    {
      "cell_type": "code",
      "source": [],
      "metadata": {
        "id": "4d6pcJ3MzCyV"
      },
      "execution_count": null,
      "outputs": []
    }
  ]
}