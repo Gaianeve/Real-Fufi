{
  "nbformat": 4,
  "nbformat_minor": 0,
  "metadata": {
    "colab": {
      "provenance": [],
      "toc_visible": true
    },
    "kernelspec": {
      "name": "python3",
      "display_name": "Python 3"
    },
    "language_info": {
      "name": "python"
    }
  },
  "cells": [
    {
      "cell_type": "markdown",
      "source": [
        "# Environment 🦤 🌎\n",
        "Create and initizialize multiple parallel environments"
      ],
      "metadata": {
        "id": "vM0fQLw80JtD"
      }
    },
    {
      "cell_type": "code",
      "source": [
        "# importing libraries\n",
        "import os\n",
        "import gym\n",
        "\n",
        "from wrappers import HistoryWrapper"
      ],
      "metadata": {
        "id": "iDdFzqZS0m0_"
      },
      "execution_count": null,
      "outputs": []
    },
    {
      "cell_type": "markdown",
      "source": [
        "## Build the environment 🎁 🍇\n",
        "Build one single environment and wrap it with an hystory wrapper **HistoryWrapper** to fix Markov assumption break and record it with **RecordEpisodeStatistics** wrapper"
      ],
      "metadata": {
        "id": "CGZysMir3jwq"
      }
    },
    {
      "cell_type": "code",
      "source": [
        "# making the environment\n",
        "def make_env(gym_id, seed, idx, capture_video, run_name):\n",
        "    def thunk():\n",
        "        env = gym.make(gym_id)\n",
        "        env = gym.wrappers.RecordEpisodeStatistics(env)\n",
        "        env = HistoryWrapper(env, 2, True)\n",
        "        if capture_video:\n",
        "            if idx == 0:\n",
        "              #record video every ten episodes\n",
        "                env = gym.wrappers.RecordVideo(env, f\"videos/{run_name}\", \\\n",
        "                                               episode_trigger = lambda x: x % 10 == 0)\n",
        "        env.seed(seed)\n",
        "        env.action_space.seed(seed)\n",
        "        env.observation_space.seed(seed)\n",
        "        return env\n",
        "\n",
        "    return thunk"
      ],
      "metadata": {
        "id": "nub3xqqj0buo"
      },
      "execution_count": null,
      "outputs": []
    },
    {
      "cell_type": "markdown",
      "source": [
        "## Create parallel environments  🌍 🦐"
      ],
      "metadata": {
        "id": "VVQY2xVj4N3v"
      }
    },
    {
      "cell_type": "code",
      "source": [
        "# vectorize environment\n",
        "def vectorize_env(gym_id, seed, capture_video, run_name, num_envs):\n",
        "  envs = gym.vector.SyncVectorEnv(\n",
        "        [make_env(gym_id, seed + i, i, capture_video, run_name) for i in range(num_envs)]\n",
        "  )\n",
        "  assert isinstance(envs.single_action_space, gym.spaces.Discrete), \\\n",
        "  \"only discrete action space is supported\"\n",
        "  return envs"
      ],
      "metadata": {
        "id": "tuqFxih90Gxx"
      },
      "execution_count": null,
      "outputs": []
    },
    {
      "cell_type": "code",
      "source": [],
      "metadata": {
        "id": "s_yHrvg11Y3S"
      },
      "execution_count": null,
      "outputs": []
    }
  ]
}