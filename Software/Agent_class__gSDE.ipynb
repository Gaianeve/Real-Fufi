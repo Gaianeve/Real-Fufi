{
  "nbformat": 4,
  "nbformat_minor": 0,
  "metadata": {
    "colab": {
      "provenance": [],
      "toc_visible": true
    },
    "kernelspec": {
      "name": "python3",
      "display_name": "Python 3"
    },
    "language_info": {
      "name": "python"
    }
  },
  "cells": [
    {
      "cell_type": "markdown",
      "source": [
        "# Agent class 🤖\n",
        "Defining the the actor-critic NN structure."
      ],
      "metadata": {
        "id": "_0_MeWjbEFo3"
      }
    },
    {
      "cell_type": "code",
      "source": [
        "# importing libraries\n",
        "import os\n",
        "import numpy as np\n",
        "import torch\n",
        "import torch.nn as nn\n",
        "from torch.distributions.categorical import Categorical\n",
        "from torchsummary import summary\n",
        "import gym\n",
        "from datetime import datetime"
      ],
      "metadata": {
        "id": "jDk56kzmENVZ"
      },
      "execution_count": null,
      "outputs": []
    },
    {
      "cell_type": "code",
      "source": [
        "#getting cute unique name for checkpoint\n",
        "def get_checkpoint_name(epoch_v):\n",
        "  now = datetime.now()\n",
        "  today = now.strftime(\"%Y_%m_%d_%H_%M_%S\")\n",
        "  check_name = 'checkpoint' + '_' + str(epoch_v) + '_' + today\n",
        "  return check_name"
      ],
      "metadata": {
        "id": "2pLi8wDvgDsk"
      },
      "execution_count": null,
      "outputs": []
    },
    {
      "cell_type": "markdown",
      "source": [
        "## PPO structure 🦄 ✨\n",
        "Defining the basic layer for PPO"
      ],
      "metadata": {
        "id": "F6VL3PpOcjbl"
      }
    },
    {
      "cell_type": "code",
      "source": [
        "# init layer\n",
        "def layer_init(layer, std=np.sqrt(2), bias_const=0.0):\n",
        "  torch.nn.init.orthogonal_(layer.weight, std)\n",
        "  torch.nn.init.constant_(layer.bias, bias_const)\n",
        "  return layer\n"
      ],
      "metadata": {
        "id": "zVBgXyyIEja5",
        "outputId": "eefa500d-ed7d-4006-8f55-716797298796",
        "colab": {
          "base_uri": "https://localhost:8080/"
        }
      },
      "execution_count": null,
      "outputs": [
        {
          "output_type": "stream",
          "name": "stderr",
          "text": [
            "/usr/local/lib/python3.10/dist-packages/ipykernel/ipkernel.py:283: DeprecationWarning: `should_run_async` will not call `transform_cell` automatically in the future. Please pass the result to `transformed_cell` argument and any exception that happen during thetransform in `preprocessing_exc_tuple` in IPython 7.17 and above.\n",
            "  and should_run_async(code)\n"
          ]
        }
      ]
    },
    {
      "cell_type": "markdown",
      "source": [
        "## Here's the actual agent 🐶 🦾\n",
        "🪄 Differences from the previous versions:\n",
        "* Added gSDE:\n",
        "Mostly taken from stablebaseline implementation [here](https://github.com/DLR-RM/stable-baselines3/blob/master/stable_baselines3/common/distributions.py), called\n",
        "```\n",
        "StateDependentNoiseDistribution\n",
        "```\n",
        "Paper [here](https://arxiv.org/abs/2005.05719)\n",
        "\n",
        "* PPO for a continous action space. The code is that of the CleanRL implementation [here](https://github.com/vwxyzjn/cleanrl/blob/master/cleanrl/ppo_continuous_action.py).\n"
      ],
      "metadata": {
        "id": "Om5dfKi6cwsu"
      }
    },
    {
      "cell_type": "code",
      "source": [
        "# agent class\n",
        "class Agent(nn.Module):\n",
        "    def __init__(self, envs, use_sde):\n",
        "        super().__init__()\n",
        "\n",
        "        #gSDE flag\n",
        "        self.use_sde = use_sde\n",
        "\n",
        "        #actor critic NN\n",
        "        self.critic = nn.Sequential(\n",
        "            layer_init(nn.Linear(np.array(envs.single_observation_space.shape).prod(), 64)),\n",
        "            nn.Tanh(),\n",
        "            layer_init(nn.Linear(64, 64)),\n",
        "            nn.Tanh(),\n",
        "            layer_init(nn.Linear(64, 1), std=1.0),\n",
        "        )\n",
        "        self.actor_mean = nn.Sequential(\n",
        "            layer_init(nn.Linear(np.array(envs.single_observation_space.shape).prod(), 64)),\n",
        "            nn.Tanh(),\n",
        "            layer_init(nn.Linear(64, 64)),\n",
        "            nn.Tanh(),\n",
        "            layer_init(nn.Linear(64, np.prod(envs.single_action_space.shape)), std=0.01),\n",
        "        )\n",
        "        self.actor_logstd = nn.Parameter(torch.zeros(1, np.prod(envs.single_action_space.shape)))\n",
        "        #learn log of standard dev\n",
        "\n",
        "    def get_value(self, x):\n",
        "        return self.critic(x)\n",
        "\n",
        "    def get_action_and_value(self, x, action=None):\n",
        "        action_mean = self.actor_mean(x)\n",
        "        action_logstd = self.actor_logstd.expand_as(action_mean) #match dimention of action mean\n",
        "\n",
        "        if self.use_sde:\n",
        "          #sample from SDE distribution\n",
        "          probs = gSDE()\n",
        "        else:\n",
        "          #sample from standard gaussian\n",
        "          action_std = torch.exp(action_logstd)\n",
        "          probs = Normal(action_mean, action_std)\n",
        "\n",
        "        if action is None:\n",
        "            action = probs.sample()\n",
        "        return action, probs.log_prob(action).sum(1), probs.entropy().sum(1), self.critic(x)\n",
        "\n",
        "  # NN summary\n",
        "  def print_summary(self, envs):\n",
        "    print('Actor summary')\n",
        "    print(summary(self.actor, envs.single_observation_space.shape))\n",
        "    print('Critic summary')\n",
        "    print(summary(self.critic, envs.single_observation_space.shape))\n",
        "\n",
        "  def get_parameters(self):\n",
        "    #useful if wanting to check the updating of NN parameters\n",
        "    for name, param in self.named_parameters():\n",
        "      print(name, param.data)\n",
        "\n",
        "  # checkpoints\n",
        "  def save_checkpoint(self, epoch_v):\n",
        "    checkpoint_name = get_checkpoint_name(epoch_v)\n",
        "    directory = os.getcwd() + '/' + 'checkpoints/'\n",
        "    #if it doesn't exists, then create it\n",
        "    if not os.path.exists(directory):\n",
        "      os.mkdir(directory)\n",
        "      print('Dear human, checkpoint directory did not existed. I created it for you ')\n",
        "    path = directory + checkpoint_name\n",
        "    print(\"=> saving checkpoint '{}'\".format(path))\n",
        "    torch.save(self, path)\n",
        "\n",
        "  def resume_from_checkpoint(self, path):\n",
        "    print(\"=> loading checkpoint '{}'\".format(path))\n",
        "    return torch.load(path)\n",
        "\n",
        "  def save_agent(self, file_name):\n",
        "    directory = os.getcwd() + '/' + 'models/'\n",
        "    #if it doesn't exists, then create it\n",
        "    if not os.path.exists(directory):\n",
        "      os.mkdir(directory)\n",
        "      print('Dear human, saved model directory did not existed. I created it for you ')\n",
        "    path = directory + file_name\n",
        "    print(\"=> saving model as best agent in '{}'\".format(path))\n",
        "    torch.save(self, path)\n",
        "\n",
        "  def load_agent(self,path):\n",
        "     print(\"=> loading model from '{}'\".format(path))\n",
        "     return torch.load(path)"
      ],
      "metadata": {
        "id": "kK7u2SZNEgJZ"
      },
      "execution_count": null,
      "outputs": []
    },
    {
      "cell_type": "code",
      "source": [],
      "metadata": {
        "id": "CY4xVncgSp2J",
        "colab": {
          "base_uri": "https://localhost:8080/",
          "height": 263
        },
        "outputId": "de884285-4cd8-4684-85bb-de6d76da476d"
      },
      "execution_count": null,
      "outputs": [
        {
          "output_type": "error",
          "ename": "AttributeError",
          "evalue": "'int' object has no attribute 'single_observation_space'",
          "traceback": [
            "\u001b[0;31m---------------------------------------------------------------------------\u001b[0m",
            "\u001b[0;31mAttributeError\u001b[0m                            Traceback (most recent call last)",
            "\u001b[0;32m<ipython-input-7-62b1c23b8a68>\u001b[0m in \u001b[0;36m<cell line: 1>\u001b[0;34m()\u001b[0m\n\u001b[0;32m----> 1\u001b[0;31m \u001b[0mfufi\u001b[0m \u001b[0;34m=\u001b[0m \u001b[0mAgent\u001b[0m\u001b[0;34m(\u001b[0m\u001b[0;36m3\u001b[0m\u001b[0;34m)\u001b[0m\u001b[0;34m\u001b[0m\u001b[0;34m\u001b[0m\u001b[0m\n\u001b[0m",
            "\u001b[0;32m<ipython-input-4-1642eb79cbf9>\u001b[0m in \u001b[0;36m__init__\u001b[0;34m(self, envs)\u001b[0m\n\u001b[1;32m      4\u001b[0m       \u001b[0msuper\u001b[0m\u001b[0;34m(\u001b[0m\u001b[0mAgent\u001b[0m\u001b[0;34m,\u001b[0m \u001b[0mself\u001b[0m\u001b[0;34m)\u001b[0m\u001b[0;34m.\u001b[0m\u001b[0m__init__\u001b[0m\u001b[0;34m(\u001b[0m\u001b[0;34m)\u001b[0m\u001b[0;34m\u001b[0m\u001b[0;34m\u001b[0m\u001b[0m\n\u001b[1;32m      5\u001b[0m       self.critic = nn.Sequential(\n\u001b[0;32m----> 6\u001b[0;31m           \u001b[0mlayer_init\u001b[0m\u001b[0;34m(\u001b[0m\u001b[0mnn\u001b[0m\u001b[0;34m.\u001b[0m\u001b[0mLinear\u001b[0m\u001b[0;34m(\u001b[0m\u001b[0mnp\u001b[0m\u001b[0;34m.\u001b[0m\u001b[0marray\u001b[0m\u001b[0;34m(\u001b[0m\u001b[0menvs\u001b[0m\u001b[0;34m.\u001b[0m\u001b[0msingle_observation_space\u001b[0m\u001b[0;34m.\u001b[0m\u001b[0mshape\u001b[0m\u001b[0;34m)\u001b[0m\u001b[0;34m.\u001b[0m\u001b[0mprod\u001b[0m\u001b[0;34m(\u001b[0m\u001b[0;34m)\u001b[0m\u001b[0;34m,\u001b[0m \u001b[0;36m64\u001b[0m\u001b[0;34m)\u001b[0m\u001b[0;34m)\u001b[0m\u001b[0;34m,\u001b[0m\u001b[0;34m\u001b[0m\u001b[0;34m\u001b[0m\u001b[0m\n\u001b[0m\u001b[1;32m      7\u001b[0m           \u001b[0mnn\u001b[0m\u001b[0;34m.\u001b[0m\u001b[0mTanh\u001b[0m\u001b[0;34m(\u001b[0m\u001b[0;34m)\u001b[0m\u001b[0;34m,\u001b[0m\u001b[0;34m\u001b[0m\u001b[0;34m\u001b[0m\u001b[0m\n\u001b[1;32m      8\u001b[0m           \u001b[0mlayer_init\u001b[0m\u001b[0;34m(\u001b[0m\u001b[0mnn\u001b[0m\u001b[0;34m.\u001b[0m\u001b[0mLinear\u001b[0m\u001b[0;34m(\u001b[0m\u001b[0;36m64\u001b[0m\u001b[0;34m,\u001b[0m \u001b[0;36m64\u001b[0m\u001b[0;34m)\u001b[0m\u001b[0;34m)\u001b[0m\u001b[0;34m,\u001b[0m\u001b[0;34m\u001b[0m\u001b[0;34m\u001b[0m\u001b[0m\n",
            "\u001b[0;31mAttributeError\u001b[0m: 'int' object has no attribute 'single_observation_space'"
          ]
        }
      ]
    },
    {
      "cell_type": "code",
      "source": [],
      "metadata": {
        "id": "TT0OxiHHBxQy"
      },
      "execution_count": null,
      "outputs": []
    }
  ]
}