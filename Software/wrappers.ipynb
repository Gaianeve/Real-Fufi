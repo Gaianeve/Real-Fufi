{
  "nbformat": 4,
  "nbformat_minor": 0,
  "metadata": {
    "colab": {
      "provenance": [],
      "toc_visible": true
    },
    "kernelspec": {
      "name": "python3",
      "display_name": "Python 3"
    },
    "language_info": {
      "name": "python"
    }
  },
  "cells": [
    {
      "cell_type": "markdown",
      "source": [
        "# History wrapper for FUFI 🎁 🐶\n",
        "Adding continuity cost would break Markov assumption, that's why we need an hystory wrapper to keep track of things.\n",
        "\n",
        "Grazie armandone per la maggior parte del codice"
      ],
      "metadata": {
        "id": "A9vDcbWWg5Gy"
      }
    },
    {
      "cell_type": "code",
      "execution_count": null,
      "metadata": {
        "id": "Ok6hg6XcguYP"
      },
      "outputs": [],
      "source": [
        "class HistoryWrapper(gym.Wrapper):\n",
        "    \"\"\"Track history of observations for given amount of steps. Initial steps are zero-filled.\"\"\"\n",
        "\n",
        "    def __init__(self, env: gym.Env, steps: int, use_continuity_cost: bool):\n",
        "        super().__init__(env) # env is the parent class\n",
        "        assert steps > 1, \"steps must be > 1\"\n",
        "        self.steps = steps\n",
        "        self.use_continuity_cost = use_continuity_cost\n",
        "        self.beta =1 #weight of continuity cost\n",
        "\n",
        "        # concat obs with action\n",
        "        self.step_low = np.concatenate([self.observation_space.low, self.action_space.low])\n",
        "        self.step_high = np.concatenate([self.observation_space.high, self.action_space.high])\n",
        "\n",
        "        # stack for each step\n",
        "        obs_low = np.tile(self.step_low, (self.steps, 1))\n",
        "        obs_high = np.tile(self.step_high, (self.steps, 1))\n",
        "\n",
        "        self.observation_space = Box(low=obs_low.flatten(), high=obs_high.flatten())\n",
        "\n",
        "        self.history = self._make_history()\n",
        "\n",
        "    def _make_history(self):\n",
        "        return [np.zeros_like(self.step_low) for _ in range(self.steps)]\n",
        "\n",
        "    def _continuity_cost(self, obs):\n",
        "        # TODO compute continuity cost for all steps and average?\n",
        "        # and compare smoothness between training run, and viz smoothness over time\n",
        "        action = obs[-1][-1]\n",
        "        last_action = obs[-2][-1]\n",
        "        continuity_cost = np.power((action - last_action), 2).sum()\n",
        "\n",
        "        return continuity_cost\n",
        "\n",
        "    def step(self, action):\n",
        "        obs, reward, done, info = self.env.step(action)\n",
        "        self.history.pop(0)\n",
        "\n",
        "        obs = np.concatenate([obs, action])\n",
        "        self.history.append(obs)\n",
        "        obs = np.array(self.history, dtype=np.float32)\n",
        "\n",
        "        if self.use_continuity_cost:\n",
        "            continuity_cost = self._continuity_cost(obs)\n",
        "            reward -= self.beta*continuity_cost\n",
        "            info[\"continuity_cost\"] = continuity_cost\n",
        "\n",
        "        return obs.flatten(), reward, done, info\n",
        "\n",
        "    def reset(\n",
        "        self,\n",
        "        seed: Optional[int] = None,\n",
        "        options: Optional[dict] = None,\n",
        "    ):\n",
        "        self.history = self._make_history()\n",
        "        self.history.pop(0)\n",
        "        obs = np.concatenate(\n",
        "            [\n",
        "                self.env.reset(seed=seed, options=options)[0],\n",
        "                np.zeros_like(self.env.action_space.low),\n",
        "            ]\n",
        "        )\n",
        "        self.history.append(obs)\n",
        "        return np.array(self.history, dtype=np.float32).flatten(), {}"
      ]
    }
  ]
}