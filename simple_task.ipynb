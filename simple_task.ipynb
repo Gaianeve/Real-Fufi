{
  "nbformat": 4,
  "nbformat_minor": 0,
  "metadata": {
    "colab": {
      "provenance": [],
      "toc_visible": true,
      "authorship_tag": "ABX9TyO1NlmiD3s/pJGKHuHsT1C0",
      "include_colab_link": true
    },
    "kernelspec": {
      "name": "python3",
      "display_name": "Python 3"
    },
    "language_info": {
      "name": "python"
    }
  },
  "cells": [
    {
      "cell_type": "markdown",
      "metadata": {
        "id": "view-in-github",
        "colab_type": "text"
      },
      "source": [
        "<a href=\"https://colab.research.google.com/github/Gaianeve/The_real_Fufi/blob/main/simple_task.ipynb\" target=\"_parent\"><img src=\"https://colab.research.google.com/assets/colab-badge.svg\" alt=\"Open In Colab\"/></a>"
      ]
    },
    {
      "cell_type": "markdown",
      "source": [
        "# Let's try moving our Fufi 🐶 with Arduino 💻\n"
      ],
      "metadata": {
        "id": "4b24t6QGiwcN"
      }
    },
    {
      "cell_type": "code",
      "source": [
        "!pip install serial"
      ],
      "metadata": {
        "colab": {
          "base_uri": "https://localhost:8080/"
        },
        "id": "RFVLL8MQoEHD",
        "outputId": "d03bc9b4-21bd-4456-8863-ea8189026f78"
      },
      "execution_count": null,
      "outputs": [
        {
          "output_type": "stream",
          "name": "stdout",
          "text": [
            "Collecting serial\n",
            "  Downloading serial-0.0.97-py2.py3-none-any.whl (40 kB)\n",
            "\u001b[?25l     \u001b[90m━━━━━━━━━━━━━━━━━━━━━━━━━━━━━━━━━━━━━━━━\u001b[0m \u001b[32m0.0/40.9 kB\u001b[0m \u001b[31m?\u001b[0m eta \u001b[36m-:--:--\u001b[0m\r\u001b[2K     \u001b[91m━━━━━━━━━━━━━━━━━━━━━━━━━━━━━━\u001b[0m\u001b[90m╺\u001b[0m\u001b[90m━━━━━━━━━\u001b[0m \u001b[32m30.7/40.9 kB\u001b[0m \u001b[31m758.7 kB/s\u001b[0m eta \u001b[36m0:00:01\u001b[0m\r\u001b[2K     \u001b[90m━━━━━━━━━━━━━━━━━━━━━━━━━━━━━━━━━━━━━━━━\u001b[0m \u001b[32m40.9/40.9 kB\u001b[0m \u001b[31m759.1 kB/s\u001b[0m eta \u001b[36m0:00:00\u001b[0m\n",
            "\u001b[?25hRequirement already satisfied: future>=0.17.1 in /usr/local/lib/python3.10/dist-packages (from serial) (0.18.3)\n",
            "Requirement already satisfied: pyyaml>=3.13 in /usr/local/lib/python3.10/dist-packages (from serial) (6.0.1)\n",
            "Collecting iso8601>=0.1.12 (from serial)\n",
            "  Downloading iso8601-2.1.0-py3-none-any.whl (7.5 kB)\n",
            "Installing collected packages: iso8601, serial\n",
            "Successfully installed iso8601-2.1.0 serial-0.0.97\n"
          ]
        }
      ]
    },
    {
      "cell_type": "code",
      "execution_count": null,
      "metadata": {
        "id": "jWcyU1Dlimgv"
      },
      "outputs": [],
      "source": [
        "#importing libraries\n",
        "import numpy\n",
        "import serial\n",
        "import time\n",
        "import struct"
      ]
    },
    {
      "cell_type": "markdown",
      "source": [
        "## Setting up communication with Arduino ✨ 🎙"
      ],
      "metadata": {
        "id": "LJKLHBwA1eQ8"
      }
    },
    {
      "cell_type": "code",
      "source": [
        "#set up connection with Arduino\n",
        "arduino = serial.Serial(\n",
        "    port='/dev/ttyUSB1',\n",
        "    baudrate=9600,\n",
        "    timeout = 1\n",
        ")\n"
      ],
      "metadata": {
        "id": "RF7xR44Giv26"
      },
      "execution_count": null,
      "outputs": []
    },
    {
      "cell_type": "markdown",
      "source": [
        " **Detailed explanation of the code** 🤯\n",
        "```\n",
        "arduino = serial.Serial(\n",
        "    port=/dev/ttyUSB1,\n",
        "    baudrate=9600,\n",
        "    timeout = 1\n",
        ")\n",
        "\n",
        "```\n",
        "*  ``` port=/dev/ttyUSB1```: This specifies the serial port to which you are connecting. ```/dev/ttyS1``` is a common serial port identifier in Unix-like operating systems (such as Linux).\n",
        "*  ```baudrate=9600```: This sets the baud rate for the connection to 19200 bits per second\n",
        "* ``` timeout = 1 ```: This sets a read timeout of 1 second. If no data is received within this time frame, the read operation will return\n",
        "\n",
        "\n",
        " **How can I know the exact port Arduino is connected to?** 🤯\n",
        "* Python script (all operative systems)\n",
        "```\n",
        "  import serial.tools.list_ports\n",
        "\n",
        "  ports = serial.tools.list_ports.comports()\n",
        "  # list all available serial ports\n",
        "  for port in ports:\n",
        "      print(port.device)\n",
        "```\n",
        "\n",
        "* Linux terminal\n",
        "  1.   Command line ```ls /dev/tty*```;\n",
        "\n",
        "    Look for a device named something like ```/dev/ttyUSB0``` or ```/dev/ttyACM0```. The exact name will vary depending on the model of your Arduino and the USB port it's connected to.\n",
        "  2.   Command line ```dmesg | grep tty```;\n",
        "\n",
        "    Run the dmesg command right after plugging in your Arduino. It will show the kernel messages, including information about the newly connected device. What's after dmseg is only needed to filter the output to see relevant information.\n",
        "\n",
        "\n"
      ],
      "metadata": {
        "id": "YoHvfk4kp0Rv"
      }
    },
    {
      "cell_type": "markdown",
      "source": [
        "## Collect data 🙏 🛕"
      ],
      "metadata": {
        "id": "aJYZ8ohs-FkN"
      }
    },
    {
      "cell_type": "code",
      "source": [
        "def get_measure(old_theta):\n",
        "  start_time = time.time() #measure starts\n",
        "  old_theta = 0 #previous angle\n",
        "\n",
        "  # read Arduino measurements (not sure about the form)\n",
        "  arduino_red = arduino.read(12) # read 12 byte\n",
        "  acc, gyro = struct.unpack(\"<iiL\", arduino_red) #give me the measure in the format I want\n",
        "  end_time = time.time() #measure ends\n",
        "  dt = end_time - start_time\n",
        "\n",
        "  #compute pole angle\n",
        "  theta = 0.98*(old_theta + (gyro[0]/131)*dt) + 0.02*acc[0] #complementary filter: 98% gyro and 2% acc\n",
        "  return acc, gyro, theta, dt"
      ],
      "metadata": {
        "id": "_dEJHi2R-Ek6"
      },
      "execution_count": null,
      "outputs": []
    },
    {
      "cell_type": "markdown",
      "source": [
        " **Explanation** 🤯\n",
        "\n",
        "The `struct.unpack ` function in Python's struct module is used to unpack data from a binary string (or bytes object) according to a specified format. Let's break down the usage and format string you provided: `<iiL`.\n",
        "\n",
        "1. `<`: Indicates that the data is in little-endian byte order.\n",
        "2. `i`: Represents a signed integer (4 bytes).\n",
        "3. `i`: Another signed integer (4 bytes).\n",
        "4. `L`: Represents an unsigned long integer (4 bytes on many systems, but it can be 8 bytes on some systems).\n",
        "\n",
        "So, the format string `<iiL` tells `struct.unpack` to interpret the binary data in `arduino_red` as consisting of:\n",
        "\n",
        "*   Two 4-byte signed integers;\n",
        "*   One unsigned long integer (4 bytes, if we're assuming typical 32-bit size);\n",
        "\n",
        "🤔  In our specific case, we should change it according to what we get from arduino."
      ],
      "metadata": {
        "id": "cQL2VDIhDJ5t"
      }
    },
    {
      "cell_type": "markdown",
      "source": [
        "Here I assume Arduino read gives six numer, acceleration for the accelerometer and angular velocity from gyro. We should do a practical example of that to fix it. I guess it reads directly all of the output pins, but not sure about it (or the order).\n",
        "\n",
        "Also not sure about when to start and end taking time for the data acquisition 🤔"
      ],
      "metadata": {
        "id": "72d9QeCywJfj"
      }
    },
    {
      "cell_type": "markdown",
      "source": [
        "## Give instruction to FUFI and get reaction 🪖 🐶\n"
      ],
      "metadata": {
        "id": "T9zt02oz6-vz"
      }
    },
    {
      "cell_type": "code",
      "source": [
        "def step(motor_command, old_theta):\n",
        "  direction =  motor_command > 0\n",
        "  # convert motor command to 16 bit unsigned int\n",
        "  int_motor_command = int(np.abs(motor_command) * (2**16 - 1))\n",
        "\n",
        "  #registers thing: write the action to do on the motor pin\n",
        "  tx = b\"\\x10\\x02\"  # start sequence\n",
        "  tx += b\"\\x01\"  # command type = STEP = 0x01\n",
        "  tx += struct.pack(\"<?H\", direction, int_motor_command) #pack our command in a form that arduino can get\n",
        "  arduino.write(tx)\n",
        "\n",
        "  #collect FUFI responce\n",
        "  acc_new, gyro_new, theta_new, dt_new = get_measure(old_theta)\n",
        "  return acc_new, gyro_new, theta_new, dt_new\n"
      ],
      "metadata": {
        "id": "HTSZtmRM65n6"
      },
      "execution_count": null,
      "outputs": []
    },
    {
      "cell_type": "markdown",
      "source": [
        "# **Explanation** 🤯\n",
        "**extract direction**\n",
        "\n",
        "I take as ```motor_command``` the number of steps with sign to move the Cart of.\n",
        "\n",
        "🤔 Should I convert it to motor angles??\n",
        " ```\n",
        " direction =  motor_command > 0\n",
        " ```\n",
        "*    if ```motor_command``` is positive ➡  ```direction = True```, and we expect the Cart to go onward\n",
        "*  if ```motor_command``` is negative ➡  ```direction = False```, and we expect the Cart to go backward.\n",
        "\n",
        "**give Arduino instruction**\n",
        "```\n",
        "struct.pack(\"<?H\", direction, int_motor_command)\n",
        "```\n",
        "The `struct.pack `function in Python is used to convert Python values into a bytes object according to a specified format string. Let's break down the format string `<?H` and the corresponding values `direction` and `int_motor_command`.\n",
        "\n",
        "\n",
        "1.  Format String `<?H`:\n",
        "  * `<` : Little-endian byte order.\n",
        "  * `?` : Boolean value (1 byte).\n",
        "  * `H` : Unsigned short (2 bytes).\n",
        "\n",
        "2.  Values:\n",
        "  * `direction` : A boolean value.\n",
        "  * `int_motor_command` : An unsigned short integer.\n",
        "\n",
        "\n",
        "Given this format string, you can use `struct.pack` to pack these values into a bytes object."
      ],
      "metadata": {
        "id": "6Obhi7lY73oF"
      }
    },
    {
      "cell_type": "markdown",
      "source": [
        "## Define what to do given the current state 🤔 🌠\n",
        "At this point we should integrate the machine learning code to give him instructions. Let's try with something a little more dummy"
      ],
      "metadata": {
        "id": "Nkvrn0elKWoJ"
      }
    },
    {
      "cell_type": "code",
      "source": [
        "# dummy instruction\n",
        "def dummy_instruction(theta):\n",
        "  if theta > 0:\n",
        "    return acc_new, gyro_new, theta_new, dt_new = step(-3, theta)\n",
        "  else:\n",
        "    return acc_new, gyro_new, theta_new, dt_new = step(3, theta)\n"
      ],
      "metadata": {
        "id": "t_vACs46pok2"
      },
      "execution_count": null,
      "outputs": []
    },
    {
      "cell_type": "markdown",
      "source": [
        "## Actually tell him to move 🎆 🙏 🚑\n"
      ],
      "metadata": {
        "id": "gs-MF15C1XMo"
      }
    },
    {
      "cell_type": "code",
      "source": [
        "if __name__ == \"__main__\":\n",
        "\n",
        "theta = 0\n",
        "#current state\n",
        "acc, gyro, theta, dt_new = get_measure(theta)\n",
        "\n",
        "#loop function to move FUFI\n",
        "while True:\n",
        "  #decide what to do on the basis of current state\n",
        "  acc, gyro, theta, dt_new = dummy_instruction(theta)"
      ],
      "metadata": {
        "id": "GnpEY-eiJ53E"
      },
      "execution_count": null,
      "outputs": []
    }
  ]
}